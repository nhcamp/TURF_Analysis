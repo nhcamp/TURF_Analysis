{
 "cells": [
  {
   "cell_type": "markdown",
   "metadata": {},
   "source": [
    "Import pandas for data processing and matplotlib for plotting cumulative reach"
   ]
  },
  {
   "cell_type": "code",
   "execution_count": 104,
   "metadata": {},
   "outputs": [],
   "source": [
    "import pandas as pd\n",
    "import matplotlib.pyplot as plt"
   ]
  },
  {
   "cell_type": "markdown",
   "metadata": {},
   "source": [
    "Importing from excel with preprocessing already completed. You want only your features/reasons and the unique user_ids."
   ]
  },
  {
   "cell_type": "code",
   "execution_count": 231,
   "metadata": {},
   "outputs": [],
   "source": [
    "covend = pd.read_excel(\"covend_turf.xlsx\",index_col='uuid')\n",
    "covend_check = pd.read_excel(\"covend_turf_check.xlsx\", index_col='uuid')\n",
    "\n",
    "covend = covend.drop(['record','date','reason2','reason14','reason15'],axis=1)\n",
    "covend_check = covend_check.drop(['reason2'], axis=1)"
   ]
  },
  {
   "cell_type": "code",
   "execution_count": 223,
   "metadata": {},
   "outputs": [],
   "source": [
    "def make_id_sets(dataframe):\n",
    "    \"\"\"\n",
    "    Makes a list of sets of user IDs corresponding to individuals who selected that feature or reason. Need index to be user id,\n",
    "    doesn't matter what the columns are named. List of sets will be the same order as that contained in DF columns.\n",
    "    \"\"\"\n",
    "    sets = []\n",
    "    for (column_name,data) in dataframe.iteritems():\n",
    "        column_name = set(dataframe.index[data == 1])\n",
    "        sets.append(column_name)\n",
    "    return sets\n",
    "\n",
    "def reach_order(starting_feature_index):\n",
    "    \"\"\"Intitates a list using index value of sets\"\"\"\n",
    "    return [starting_feature_index]\n",
    "\n",
    "def reach_percentage(sets,starting_feature_index,dataframe):\n",
    "    \"\"\"Initaties a list using index value and original DF\"\"\"\n",
    "    return [((len(sets[starting_feature_index]))/(len(dataframe)))]\n",
    "\n",
    "def calculate_order_percentages(sets,upper_range_loop,dataframe,starting_feature_index):\n",
    "    \"\"\"\n",
    "    First calls functions to set the starting point for the TURF. Then will loop through the range specified (this is the \n",
    "    number of features to go through before you reach the limit you're looking for). Each outer loop has an inner loop that\n",
    "    checks the difference between the full set of features currently held and the set in that iteration. Set with the most\n",
    "    difference has its index value added and is joined with the full set. Reach percentage is also calculated. Returns \n",
    "    order and percentages as a list.\n",
    "    \"\"\"\n",
    "    order = reach_order(starting_feature_index)\n",
    "    percentages = reach_percentage(sets,starting_feature_index,dataframe)\n",
    "    \n",
    "    new_reach = sets[starting_feature_index]\n",
    "    for i in range(0,upper_range_loop):\n",
    "        diff=0\n",
    "        for each_set in sets:\n",
    "            if len(each_set.difference(new_reach)) > diff:\n",
    "                diff = len(each_set.difference(new_reach))\n",
    "                set_to_add = sets.index(each_set)\n",
    "        order.append(set_to_add)\n",
    "        new_reach = set.union(new_reach,sets[set_to_add])\n",
    "        percentages.append(len(new_reach)/len(dataframe))\n",
    "    return order,percentages"
   ]
  },
  {
   "cell_type": "code",
   "execution_count": 232,
   "metadata": {},
   "outputs": [],
   "source": [
    "sets = make_id_sets(covend)\n",
    "order, percentages = calculate_order_percentages(sets,12,covend,6)"
   ]
  },
  {
   "cell_type": "code",
   "execution_count": 217,
   "metadata": {},
   "outputs": [
    {
     "data": {
      "image/png": "[encoded data removed]",
      "text/plain": [
       "<Figure size 432x288 with 1 Axes>"
      ]
     },
     "metadata": {
      "needs_background": "light"
     },
     "output_type": "display_data"
    }
   ],
   "source": [
    "plt.plot(percentages)\n",
    "plt.ylabel(\"Cumulative Reach\")\n",
    "plt.xlabel(\"Each Additional Feature\")\n",
    "plt.title(\"TURF\")\n",
    "plt.xticks(range(0,12))\n",
    "plt.grid(b=True, which='major', color='#666666', linestyle='-')\n",
    "plt.show()"
   ]
  }
 ],
 "metadata": {
  "kernelspec": {
   "display_name": "Python 3",
   "language": "python",
   "name": "python3"
  },
  "language_info": {
   "codemirror_mode": {
    "name": "ipython",
    "version": 3
   },
   "file_extension": ".py",
   "mimetype": "text/x-python",
   "name": "python",
   "nbconvert_exporter": "python",
   "pygments_lexer": "ipython3",
   "version": "3.7.4"
  }
 },
 "nbformat": 4,
 "nbformat_minor": 2
}
